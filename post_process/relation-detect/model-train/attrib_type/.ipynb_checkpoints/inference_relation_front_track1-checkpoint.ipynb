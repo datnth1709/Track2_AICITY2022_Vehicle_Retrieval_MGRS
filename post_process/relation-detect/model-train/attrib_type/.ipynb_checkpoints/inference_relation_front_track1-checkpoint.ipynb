{
 "cells": [
  {
   "cell_type": "code",
   "execution_count": 15,
   "metadata": {},
   "outputs": [],
   "source": [
    "from __future__ import division\n",
    "import paddle\n",
    "import paddle.fluid as fluid\n",
    "import os\n",
    "from tqdm import tqdm\n",
    "import numpy as np\n",
    "import pdb\n",
    "import argparse\n",
    "import time\n",
    "import pickle\n",
    "import random\n",
    "from skimage import exposure\n",
    "from PIL import Image\n",
    "import cv2\n",
    "from glob import glob\n",
    "import matplotlib.pyplot as plt\n",
    "from sklearn.metrics import confusion_matrix\n",
    "import json"
   ]
  },
  {
   "cell_type": "code",
   "execution_count": 16,
   "metadata": {},
   "outputs": [],
   "source": [
    "paddle.enable_static()\n",
    "weight_dir = './inference/'\n",
    "place = fluid.CUDAPlace(0)\n",
    "exe = fluid.Executor(place)\n",
    "exe.run(fluid.default_startup_program())\n",
    "\n",
    "inference_program, feed_target_names, fetch_targets = fluid.io.load_inference_model(weight_dir, exe, \n",
    "                                                model_filename='inference.pdmodel', params_filename='inference.pdiparams')\n",
    "\n",
    "\n"
   ]
  },
  {
   "cell_type": "code",
   "execution_count": 17,
   "metadata": {},
   "outputs": [],
   "source": [
    "all_img = []\n",
    "with open(\"/ssd2/yuyue/AICITY2022/data/aic22/track_mask/relation_info_front_test.json\") as f:\n",
    "    data = json.load(f)"
   ]
  },
  {
   "cell_type": "code",
   "execution_count": 18,
   "metadata": {},
   "outputs": [
    {
     "name": "stderr",
     "output_type": "stream",
     "text": [
      "100%|██████████| 184/184 [21:39<00:00,  7.06s/it] \n"
     ]
    }
   ],
   "source": [
    "fea_dic = {}\n",
    "\n",
    "correct = 0\n",
    "for i in tqdm(list(data.keys())):\n",
    "    fea_dic[i] = []\n",
    "    frames = data[i]['frames']\n",
    "    boxes = data[i]['boxes']\n",
    "    for idx in range(len(boxes)):\n",
    "        if boxes[idx] != -1:\n",
    "            img_path = frames[idx]\n",
    "            path = \"/ssd2/yuyue/AICITY2022/data/aic22/\" + img_path.replace(\"./\",\"\")\n",
    "            assert os.path.exists(path)\n",
    "            x1,y1,x2,y2 = boxes[idx]\n",
    "            im_ori = cv2.imread(path)\n",
    "            im = im_ori[y1:y2,x1:x2,:]\n",
    "            im = cv2.cvtColor(im, cv2.COLOR_BGR2RGB)\n",
    "            im = cv2.resize(im, (224, 224))\n",
    "            im = im.astype(np.float32, copy=False)\n",
    "            im = im / 255.0\n",
    "            im = im - np.array([0.485, 0.456, 0.406], dtype='float32')\n",
    "            im = im / np.array([0.229, 0.224, 0.225], dtype='float32')\n",
    "            im = np.swapaxes(im, 1, 2)\n",
    "            im = np.swapaxes(im, 1, 0)\n",
    "    \n",
    "            output = exe.run(inference_program, fetch_list= fetch_targets, \n",
    "                                         feed = {feed_target_names[0]:im[np.newaxis,:]},\n",
    "                                         return_numpy=True)\n",
    "    \n",
    "            fea_dic[i].append(output)\n",
    "    "
   ]
  },
  {
   "cell_type": "code",
   "execution_count": 21,
   "metadata": {},
   "outputs": [],
   "source": [
    "back_type = {}\n",
    "for i in fea_dic:\n",
    "    logits = np.zeros(6)\n",
    "    for prob in fea_dic[i]:\n",
    "        logits += prob[0][0]\n",
    "    logits = logits / max(len(fea_dic[i]),1)\n",
    "    \n",
    "    if len(fea_dic[i]) > 1:\n",
    "        \n",
    "        pred = np.argmax(logits)\n",
    "        score = logits[pred]\n",
    "#         pred = color_map[pred]\n",
    "    else:\n",
    "        pred = -1\n",
    "        score = -1 \n",
    "    back_type[i] = logits"
   ]
  },
  {
   "cell_type": "code",
   "execution_count": 22,
   "metadata": {},
   "outputs": [],
   "source": [
    "np.save(\"./fea_dic_front_type_iou_0.5.npy\",fea_dic)"
   ]
  },
  {
   "cell_type": "code",
   "execution_count": 23,
   "metadata": {},
   "outputs": [],
   "source": [
    "with open(\"/ssd2/yuyue/AICITY2022/code/relation_prediction/front_test_vehicle_predict_no_avg.json\") as f:\n",
    "    data_type = json.load(f)\n",
    "track_type = {}\n",
    "\n",
    "for key in data_type:\n",
    "    dic_type = {}\n",
    "    type_list = data_type[key]\n",
    "    count_tot = 0\n",
    "    valid = 0\n",
    "    type = np.array((-1))\n",
    "    conf_mat = np.zeros((6))\n",
    "    for i in range(len(type_list)):\n",
    "        if type_list[i] != -1:\n",
    "            pred_mat = np.array(type_list[i])\n",
    "            conf_mat = conf_mat + pred_mat\n",
    "            valid += 1\n",
    "    if valid > 1:\n",
    "        conf_mat = conf_mat / max(1,valid)\n",
    "        pred = np.argmax(conf_mat)\n",
    "        if conf_mat[pred] > 0:\n",
    "            type = pred\n",
    "    track_type[key] = conf_mat\n",
    "\n"
   ]
  },
  {
   "cell_type": "code",
   "execution_count": 34,
   "metadata": {},
   "outputs": [],
   "source": [
    "back_type_new = {}\n",
    "for i in back_type:\n",
    "    if back_type[i].sum() > 0 and track_type[i].sum() > 0:\n",
    "        logits = (back_type[i] + track_type[i]) /2\n",
    "#         logits = back_type[i]\n",
    "        pred = np.argmax(logits)\n",
    "        score = logits[pred]\n",
    "        back_type_new[i] = [pred,score]\n",
    "    else:\n",
    "        back_type_new[i] = [-1,-1]"
   ]
  },
  {
   "cell_type": "code",
   "execution_count": 35,
   "metadata": {},
   "outputs": [],
   "source": [
    "np.save(\"/ssd2/yuyue/AICITY2022/code/relation_prediction/front_type_r50.npy\",back_type_new)"
   ]
  },
  {
   "cell_type": "code",
   "execution_count": null,
   "metadata": {},
   "outputs": [],
   "source": []
  }
 ],
 "metadata": {
  "kernelspec": {
   "display_name": "Python 3",
   "language": "python",
   "name": "python3"
  },
  "language_info": {
   "codemirror_mode": {
    "name": "ipython",
    "version": 3
   },
   "file_extension": ".py",
   "mimetype": "text/x-python",
   "name": "python",
   "nbconvert_exporter": "python",
   "pygments_lexer": "ipython3",
   "version": "3.7.6"
  }
 },
 "nbformat": 4,
 "nbformat_minor": 4
}
